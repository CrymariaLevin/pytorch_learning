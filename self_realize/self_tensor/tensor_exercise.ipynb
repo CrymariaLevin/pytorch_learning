{
 "cells": [
  {
   "cell_type": "code",
   "execution_count": 1,
   "metadata": {},
   "outputs": [],
   "source": [
    "import torch\n",
    "import imageio"
   ]
  },
  {
   "cell_type": "code",
   "execution_count": 2,
   "metadata": {},
   "outputs": [
    {
     "data": {
      "text/plain": [
       "(3840, 2160, 3)"
      ]
     },
     "execution_count": 2,
     "metadata": {},
     "output_type": "execute_result"
    }
   ],
   "source": [
    "path = r\"C:\\Users\\gz395qz\\OneDrive - EY CHINA\\Trigger\\EY files\\种树/20210302.png\"\n",
    "\n",
    "img_arr = imageio.imread(path)\n",
    "img_arr.shape"
   ]
  },
  {
   "cell_type": "code",
   "execution_count": 3,
   "metadata": {},
   "outputs": [
    {
     "data": {
      "text/plain": [
       "torch.Size([3, 3840, 2160])"
      ]
     },
     "execution_count": 3,
     "metadata": {},
     "output_type": "execute_result"
    }
   ],
   "source": [
    "image = torch.from_numpy(img_arr)\n",
    "# permute是任意调整维度位置，而transpose只能调换两个维度的位置\n",
    "image = image.permute(2,0,1)\n",
    "image.shape"
   ]
  },
  {
   "cell_type": "code",
   "execution_count": 4,
   "metadata": {},
   "outputs": [
    {
     "data": {
      "text/plain": [
       "tensor(133.7351)"
      ]
     },
     "execution_count": 4,
     "metadata": {},
     "output_type": "execute_result"
    }
   ],
   "source": [
    "# 查看整体亮度\n",
    "\n",
    "image = image.float()\n",
    "image.mean()"
   ]
  },
  {
   "cell_type": "code",
   "execution_count": 7,
   "metadata": {},
   "outputs": [
    {
     "name": "stdout",
     "output_type": "stream",
     "text": [
      "tensor(123.4287)\n",
      "tensor(148.4843)\n",
      "tensor(129.2923)\n"
     ]
    }
   ],
   "source": [
    "# 各个通道的平均值\n",
    "\n",
    "print(image[0,:,:].mean())\n",
    "print(image[1,:,:].mean())\n",
    "print(image[2,:,:].mean())\n",
    "\n",
    "# 可以看出绿色是主体，RGB通道中，绿色通道平均值最大"
   ]
  },
  {
   "cell_type": "code",
   "execution_count": 6,
   "metadata": {},
   "outputs": [
    {
     "name": "stdout",
     "output_type": "stream",
     "text": [
      "tensor([[17.6667, 17.6667, 17.6667,  ..., 17.6667, 17.6667, 17.6667],\n",
      "        [17.6667, 17.6667, 17.6667,  ..., 17.6667, 17.6667, 17.6667],\n",
      "        [17.6667, 17.6667, 17.6667,  ..., 17.6667, 17.6667, 17.6667],\n",
      "        ...,\n",
      "        [ 0.0000,  0.0000,  0.0000,  ...,  0.0000,  0.0000,  0.0000],\n",
      "        [ 0.0000,  0.0000,  0.0000,  ...,  0.0000,  0.0000,  0.0000],\n",
      "        [ 0.0000,  0.0000,  0.0000,  ...,  0.0000,  0.0000,  0.0000]])\n",
      "tensor([[10.8070, 10.8055, 10.7982,  ..., 11.9138, 11.9102, 11.9102],\n",
      "        [32.0727, 32.0708, 31.9302,  ..., 32.3352, 32.1930, 32.1932],\n",
      "        [16.8188, 16.8182, 16.7279,  ..., 17.0357, 16.9424, 16.9424]])\n",
      "tensor([[ 9.,  9.,  9.,  ...,  0.,  0.,  0.],\n",
      "        [25., 25., 25.,  ...,  0.,  0.,  0.],\n",
      "        [19., 19., 19.,  ...,  0.,  0.,  0.]])\n",
      "torch.Size([3840, 2160])\n",
      "torch.Size([3, 2160])\n",
      "torch.Size([3, 3840])\n"
     ]
    }
   ],
   "source": [
    "print(image.mean(dim=0))\n",
    "print(image.mean(dim=1))\n",
    "print(image.mean(dim=2))\n",
    "\n",
    "print(image.mean(dim=0).shape)\n",
    "print(image.mean(dim=1).shape)\n",
    "print(image.mean(dim=2).shape)"
   ]
  },
  {
   "cell_type": "code",
   "execution_count": null,
   "metadata": {},
   "outputs": [],
   "source": []
  }
 ],
 "metadata": {
  "kernelspec": {
   "display_name": "Python 3",
   "language": "python",
   "name": "python3"
  },
  "language_info": {
   "codemirror_mode": {
    "name": "ipython",
    "version": 3
   },
   "file_extension": ".py",
   "mimetype": "text/x-python",
   "name": "python",
   "nbconvert_exporter": "python",
   "pygments_lexer": "ipython3",
   "version": "3.8.5"
  }
 },
 "nbformat": 4,
 "nbformat_minor": 4
}
